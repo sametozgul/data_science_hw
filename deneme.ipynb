{
 "cells": [
  {
   "cell_type": "code",
   "execution_count": 6,
   "metadata": {},
   "outputs": [],
   "source": [
    "import pandas as pd\n",
    "import numpy as np\n"
   ]
  },
  {
   "cell_type": "code",
   "execution_count": 7,
   "metadata": {},
   "outputs": [],
   "source": [
    "data=pd.read_excel(\"ENB2012_data.xlsx\")\n",
    "    # Get features from dropping outputs\n",
    "X = data.drop(['Y1', 'Y2'], axis=1).values\n",
    "# Get outputs from data\n",
    "y_1= ((data['Y1']).values).reshape(-1, 1)\n",
    "y_2= ((data['Y2']).values).reshape(-1, 1)\n",
    "# Import libraries\n",
    "from sklearn.linear_model import Ridge\n",
    "from sklearn.model_selection import train_test_split,GridSearchCV\n",
    "from sklearn.ensemble import RandomForestRegressor\n",
    "# Set paramaters for random forest regressor\n",
    "param_grid = {\n",
    "    'max_depth': [50,150,250],\n",
    "    'min_samples_leaf': [1,2,3],\n",
    "    'min_samples_split': [2,3],\n",
    "    'n_estimators': [10,50,100,250,500]\n",
    "}\n",
    "# Set parameters for ridge regressor\n",
    "ridge_params={\n",
    "    'alpha':[0.001,0.01,0.1, 1.0, 10.0]\n",
    "    }"
   ]
  },
  {
   "cell_type": "code",
   "execution_count": 8,
   "metadata": {},
   "outputs": [],
   "source": [
    "from sklearn.model_selection import RepeatedKFold,cross_val_score\n",
    "cv=RepeatedKFold(n_splits=10,n_repeats=10,random_state=True)"
   ]
  },
  {
   "cell_type": "code",
   "execution_count": 9,
   "metadata": {},
   "outputs": [],
   "source": [
    "X_train , X_test , y_train , y_test = train_test_split(X , y_1 , test_size=0.2 , random_state =42)"
   ]
  },
  {
   "cell_type": "code",
   "execution_count": 10,
   "metadata": {},
   "outputs": [
    {
     "name": "stdout",
     "output_type": "stream",
     "text": [
      "Best parameter for ridge regression {'alpha': 0.001}\n"
     ]
    }
   ],
   "source": [
    "temp_ridge=Ridge()\n",
    "grid_search_ridge=GridSearchCV(estimator = temp_ridge, param_grid = ridge_params, cv = cv, n_jobs = -1)\n",
    "grid_search_ridge.fit(X_train,y_train.ravel())\n",
    "print(\"Best parameter for ridge regression\",grid_search_ridge.best_params_)"
   ]
  },
  {
   "cell_type": "code",
   "execution_count": 11,
   "metadata": {},
   "outputs": [
    {
     "data": {
      "text/plain": [
       "Ridge(alpha=0.001)"
      ]
     },
     "execution_count": 11,
     "metadata": {},
     "output_type": "execute_result"
    }
   ],
   "source": [
    "model=Ridge(**grid_search_ridge.best_params_)\n",
    "model.fit(X_train,y_train)"
   ]
  },
  {
   "cell_type": "code",
   "execution_count": 13,
   "metadata": {},
   "outputs": [
    {
     "name": "stdout",
     "output_type": "stream",
     "text": [
      "2.0687340284186253\n",
      "0.2448154589007154\n"
     ]
    }
   ],
   "source": [
    "scores_ridge = cross_val_score(model, X_train, y_train,scoring=\"neg_mean_absolute_error\", cv=cv)\n",
    "print(-scores_ridge.mean())\n",
    "print(scores_ridge.std())"
   ]
  },
  {
   "cell_type": "code",
   "execution_count": 14,
   "metadata": {},
   "outputs": [
    {
     "name": "stdout",
     "output_type": "stream",
     "text": [
      "8.589594321769248\n",
      "1.7913033726179532\n"
     ]
    }
   ],
   "source": [
    "scores_ridge = cross_val_score(model, X_train, y_train,scoring=\"neg_mean_squared_error\", cv=cv)\n",
    "print(-scores_ridge.mean())\n",
    "print(scores_ridge.std())"
   ]
  },
  {
   "cell_type": "code",
   "execution_count": 21,
   "metadata": {},
   "outputs": [],
   "source": [
    "# import libraries\n",
    "import numpy as np\n",
    "import pandas as pd\n",
    "import matplotlib.pyplot as plt\n",
    "from sklearn.linear_model import LogisticRegression\n",
    "from sklearn.preprocessing import LabelEncoder,StandardScaler\n",
    "from sklearn.model_selection import train_test_split,RepeatedKFold,KFold,cross_val_score,GridSearchCV,StratifiedKFold\n",
    "from sklearn.ensemble import RandomForestRegressor,RandomForestClassifier\n",
    "from sklearn.neural_network import MLPClassifier\n",
    "def problem2(filename):\n",
    "    # Read data using pandas library\n",
    "    data = pd.read_csv(filename, sep = ';')\n",
    "    #Converting dependent variable categorical to dummy\n",
    "    y = pd.get_dummies(data['y'], columns = ['y'], prefix = ['y'], drop_first = True)\n",
    "    y=y.values.reshape(-1, 1)\n",
    "    # Firstly I divided categorical data different parts. \n",
    "    # data_c includes client features\n",
    "    # I used labelencoder because it gives better result\n",
    "    data_c = data.iloc[: , 0:7]\n",
    "    labelencoder_X = LabelEncoder()\n",
    "    data_c['job']      = labelencoder_X.fit_transform(data_c['job']) \n",
    "    data_c['marital']  = labelencoder_X.fit_transform(data_c['marital']) \n",
    "    data_c['education']= labelencoder_X.fit_transform(data_c['education']) \n",
    "    data_c['default']  = labelencoder_X.fit_transform(data_c['default']) \n",
    "    data_c['housing']  = labelencoder_X.fit_transform(data_c['housing']) \n",
    "    data_c['loan']     = labelencoder_X.fit_transform(data_c['loan']) \n",
    "    # The client age is divided four range. I get the idea different projects. It is useful\n",
    "    data_c.loc[data_c['age'] <= 32, 'age'] = 1\n",
    "    data_c.loc[(data_c['age'] > 32) & (data_c['age'] <= 47), 'age'] = 2\n",
    "    data_c.loc[(data_c['age'] > 47) & (data_c['age'] <= 70), 'age'] = 3\n",
    "    data_c.loc[(data_c['age'] > 70) & (data_c['age'] <= 98), 'age'] = 4\n",
    "    # try to convert contact, month, day_of_week data to numerical\n",
    "    data_r = data.iloc[: , 7:11]\n",
    "    data[(data['duration'] == 0)]\n",
    "    labelencoder_X = LabelEncoder()\n",
    "    data_r['contact']     = labelencoder_X.fit_transform(data_r['contact']) \n",
    "    data_r['month']       = labelencoder_X.fit_transform(data_r['month']) \n",
    "    data_r['day_of_week'] = labelencoder_X.fit_transform(data_r['day_of_week']) \n",
    "    # I did samething like before  I did to age column\n",
    "    data_r.loc[data['duration'] <= 102, 'duration'] = 1\n",
    "    data_r.loc[(data['duration'] > 102) & (data_r['duration'] <= 180)  , 'duration']    = 2\n",
    "    data_r.loc[(data['duration'] > 180) & (data_r['duration'] <= 319)  , 'duration']   = 3\n",
    "    data_r.loc[(data['duration'] > 319) & (data_r['duration'] <= 644.5), 'duration'] = 4\n",
    "    data_r.loc[data['duration']  > 644.5, 'duration'] = 5\n",
    "\n",
    "    data_s = data.loc[: , ['emp.var.rate', 'cons.price.idx', 'cons.conf.idx', 'euribor3m', 'nr.employed']]\n",
    "    data_o = data.loc[: , ['campaign', 'pdays','previous', 'poutcome']]\n",
    "    data_o['poutcome'].replace(['nonexistent', 'failure', 'success'], [1,2,3], inplace  = True)\n",
    "    # To combine data after data preprocessing\n",
    "    data_final= pd.concat([data_c, data_r, data_s, data_o], axis = 1)\n",
    "    data_final = data_final[['age', 'job', 'marital', 'education', 'default', 'housing', 'loan',\n",
    "                        'contact', 'month', 'day_of_week', 'duration', 'emp.var.rate', 'cons.price.idx', \n",
    "                        'cons.conf.idx', 'euribor3m', 'nr.employed', 'campaign', 'pdays', 'previous', 'poutcome']]\n",
    "    # Split data \n",
    "    # X_train, X_test, y_train, y_test = train_test_split(data_final, y.ravel(), test_size = 0.2, random_state = 101)\n",
    "    # Scale data\n",
    "    sc_X = StandardScaler()\n",
    "    X_scaled = sc_X.fit_transform(data_final)\n",
    "    # X_test = sc_X.transform(X_test)\n",
    "    # create cross validation method\n",
    "    cv=RepeatedKFold(n_splits=5,n_repeats=5,random_state=True)\n",
    "    # Create a loop that is range from 10^-4 to 10^4\n",
    "    # And put each values as C parameter\n",
    "    all_scores=[]\n",
    "    for x in np.logspace(-4,4,20):\n",
    "        model=LogisticRegression(C=x)\n",
    "        model.fit(X_scaled,y.ravel())\n",
    "        scores=cross_val_score(model, X_scaled, y.ravel(),scoring=\"roc_auc\", cv=cv)\n",
    "        all_scores.append(scores.mean())\n",
    "\n",
    "    # Plot scores\n",
    "    plt.plot(np.logspace(-4,4,20,endpoint=True),all_scores,'-gD')\n",
    "    plt.xscale(\"log\")\n",
    "    plt.ylabel(\"Mean Auc Score\")\n",
    "    plt.title(\"Logistic Regression Model\")\n",
    "    # Create paramater list \n",
    "    param_grid = {\n",
    "    'max_depth': [50,150,250],\n",
    "    'min_samples_leaf': [1,2,3],\n",
    "    'min_samples_split': [2,3],\n",
    "    'n_estimators': [10,50,100,250,500,1000]\n",
    "    }\n",
    "    # Create cross validation method\n",
    "    cv=RepeatedKFold(n_splits=3,n_repeats=3,random_state=True)\n",
    "    rf = RandomForestRegressor()\n",
    "    grid_search_logi = GridSearchCV(estimator = rf, param_grid = param_grid, \n",
    "                            cv = cv, n_jobs = -1)\n",
    "    \n",
    "    grid_search_logi.fit(X_scaled,y.ravel())\n",
    "    # get best parameters for random forest regressor\n",
    "    print(\"Best parameters of Random regressor\",grid_search_logi.best_params_);\n",
    "    last_model_logi=RandomForestRegressor(**grid_search_logi.best_params_)\n",
    "    scores = cross_val_score(last_model_logi, X_scaled, y.ravel(),scoring=\"roc_auc\", cv=cv)\n",
    "    scores.mean()\n",
    "    # create neural network using MLPClassifier\n",
    "    mlp_classifier=MLPClassifier(max_iter=500)\n",
    "    # Create parameter list\n",
    "    parameter_space = {\n",
    "        'hidden_layer_sizes': [(10,10,10),(10,10,10,10),(10,10,10,10,10),(10,10,10,10,10,10)],\n",
    "        'alpha': [0.00001, 0.0001,0.001, 0.01, 0.1],\n",
    "    }\n",
    "    grid_search = GridSearchCV(estimator = mlp_classifier, param_grid = parameter_space, \n",
    "                            cv = cv, n_jobs = -1,scoring='roc_auc')\n",
    "    grid_search.fit(X_scaled,y.ravel())\n",
    "    print(\"Best parameters for Neural Network\",grid_search.best_params_)\n",
    "    # Variables for average classification report\n",
    "    from sklearn.metrics import classification_report,make_scorer,accuracy_score\n",
    "    originalclass = []\n",
    "    predictedclass = []\n",
    "    #Make our customer score\n",
    "    def classification_report_with_accuracy_score(y_true, y_pred):\n",
    "        originalclass.extend(y_true)\n",
    "        predictedclass.extend(y_pred)\n",
    "        return accuracy_score(y_true, y_pred) # return accuracy score\n",
    "\n",
    "\n",
    "    logistic_reg=LogisticRegression(C=1)\n",
    "    best_neural=MLPClassifier(**grid_search.best_params_)\n",
    "    best_randomforest=RandomForestClassifier(**grid_search_logi.best_params_)\n",
    "    # best_randomforest.fit(X_train,y_train.ravel())\n",
    "    # y_pred=best_randomforest.predict(X_test)\n",
    "    outer_cv = KFold(n_splits=5, shuffle=True, random_state=True)\n",
    "    # Nested CV with parameter optimization\n",
    "    nested_score = cross_val_score(logistic_reg, X=X_scaled, y=y.ravel(), cv=outer_cv, scoring=make_scorer(classification_report_with_accuracy_score))\n",
    "    print(\"classification report for logistic regression\")\n",
    "    print(classification_report(originalclass, predictedclass)) \n",
    "    originalclass.clear()\n",
    "    predictedclass.clear()\n",
    "    nested_score = cross_val_score(best_neural, X=X_scaled, y=y.ravel(), cv=outer_cv, scoring=make_scorer(classification_report_with_accuracy_score))\n",
    "    print(\"classification report for neural network\")\n",
    "    print(classification_report(originalclass, predictedclass)) \n",
    "    originalclass.clear()\n",
    "    predictedclass.clear()\n",
    "    nested_score = cross_val_score(best_randomforest, X=X_scaled, y=y.ravel(), cv=outer_cv, scoring=make_scorer(classification_report_with_accuracy_score))\n",
    "    print(\"classification report for Random forest\")\n",
    "    print(classification_report(originalclass, predictedclass)) "
   ]
  },
  {
   "cell_type": "code",
   "execution_count": 22,
   "metadata": {},
   "outputs": [
    {
     "name": "stdout",
     "output_type": "stream",
     "text": [
      "Best parameters of Random regressor {'max_depth': 50, 'min_samples_leaf': 3, 'min_samples_split': 3, 'n_estimators': 1000}\n",
      "Best parameters for Neural Network {'alpha': 0.1, 'hidden_layer_sizes': (10, 10, 10, 10, 10)}\n",
      "classification report for logistic regression\n",
      "              precision    recall  f1-score   support\n",
      "\n",
      "           0       0.93      0.98      0.95     36548\n",
      "           1       0.67      0.38      0.48      4640\n",
      "\n",
      "    accuracy                           0.91     41188\n",
      "   macro avg       0.80      0.68      0.72     41188\n",
      "weighted avg       0.90      0.91      0.90     41188\n",
      "\n",
      "classification report for neural network\n",
      "              precision    recall  f1-score   support\n",
      "\n",
      "           0       0.95      0.95      0.95     36548\n",
      "           1       0.61      0.57      0.59      4640\n",
      "\n",
      "    accuracy                           0.91     41188\n",
      "   macro avg       0.78      0.76      0.77     41188\n",
      "weighted avg       0.91      0.91      0.91     41188\n",
      "\n",
      "classification report for Random forest\n",
      "              precision    recall  f1-score   support\n",
      "\n",
      "           0       0.94      0.97      0.95     36548\n",
      "           1       0.64      0.48      0.55      4640\n",
      "\n",
      "    accuracy                           0.91     41188\n",
      "   macro avg       0.79      0.72      0.75     41188\n",
      "weighted avg       0.90      0.91      0.91     41188\n",
      "\n"
     ]
    },
    {
     "data": {
      "image/png": "[encoded data removed]",
      "text/plain": [
       "<Figure size 432x288 with 1 Axes>"
      ]
     },
     "metadata": {
      "needs_background": "light"
     },
     "output_type": "display_data"
    }
   ],
   "source": [
    "problem2('bank-additional-full.csv')"
   ]
  }
 ],
 "metadata": {
  "interpreter": {
   "hash": "11f4f9e024f345a762b367b953dda8a9d0d73d0ed685f40724d283ac032facc1"
  },
  "kernelspec": {
   "display_name": "Python 3.10.4 64-bit ('sklearn-env': conda)",
   "language": "python",
   "name": "python3"
  },
  "language_info": {
   "codemirror_mode": {
    "name": "ipython",
    "version": 3
   },
   "file_extension": ".py",
   "mimetype": "text/x-python",
   "name": "python",
   "nbconvert_exporter": "python",
   "pygments_lexer": "ipython3",
   "version": "3.10.4"
  },
  "orig_nbformat": 4
 },
 "nbformat": 4,
 "nbformat_minor": 2
}
